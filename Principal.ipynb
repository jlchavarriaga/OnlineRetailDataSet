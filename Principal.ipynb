{
 "cells": [
  {
   "attachments": {},
   "cell_type": "markdown",
   "metadata": {},
   "source": [
    " Realizar un análisis para determinar el país que más productos consume. Puedes utilizar las\n",
    "columnas \"País\" y \"Cantidad\" del conjunto de datos para determinar esto."
   ]
  },
  {
   "cell_type": "code",
   "execution_count": 2,
   "metadata": {},
   "outputs": [],
   "source": [
    "import pandas as pd\n",
    "import matplotlib.pyplot as plt\n",
    "#Agregamos las librerias necesarias para el analisis,\n",
    "# usaremos Pandas para el tratamiento de los datos y matplotlib para la visualizacion"
   ]
  },
  {
   "attachments": {},
   "cell_type": "markdown",
   "metadata": {},
   "source": [
    "leemos el libro de excel en un dataframe \n",
    "Lo ideal seria de la siguiente manera:\n",
    "    df = pd.read_excel('online_retail_II.xlsx')\n",
    "pero debemos tener en cuenta que el libro tiene dos pestañas..."
   ]
  },
  {
   "cell_type": "code",
   "execution_count": 3,
   "metadata": {},
   "outputs": [],
   "source": [
    "df1 = pd.read_excel('online_retail_II.xlsx', sheet_name='Year 2009-2010')\n",
    "df2 = pd.read_excel('online_retail_II.xlsx', sheet_name='Year 2010-2011')\n",
    "\n"
   ]
  },
  {
   "attachments": {},
   "cell_type": "markdown",
   "metadata": {},
   "source": [
    "Entendemos que la informacion del año 2010 se encuentra repetida, tenemos 2 opciones\n",
    "Analizar una pestaña completa y la otra solo filtrar por el año de interes"
   ]
  },
  {
   "cell_type": "code",
   "execution_count": 4,
   "metadata": {},
   "outputs": [],
   "source": [
    "df1 = df1[df1['InvoiceDate'].dt.year == 2009]\n",
    "\n"
   ]
  },
  {
   "attachments": {},
   "cell_type": "markdown",
   "metadata": {},
   "source": [
    "Unificamos los dos dataframes, el dataframe que contiene la informacion del 2010 y 2011 junto con el dataframe filtrado en el paso anterior"
   ]
  },
  {
   "cell_type": "code",
   "execution_count": 5,
   "metadata": {},
   "outputs": [],
   "source": [
    "df = pd.concat([df1, df2])\n"
   ]
  },
  {
   "attachments": {},
   "cell_type": "markdown",
   "metadata": {},
   "source": [
    "Mostramos los primeros 5 elementos para comprobar el cargue del archivo"
   ]
  },
  {
   "cell_type": "code",
   "execution_count": 6,
   "metadata": {},
   "outputs": [
    {
     "data": {
      "text/html": [
       "<div>\n",
       "<style scoped>\n",
       "    .dataframe tbody tr th:only-of-type {\n",
       "        vertical-align: middle;\n",
       "    }\n",
       "\n",
       "    .dataframe tbody tr th {\n",
       "        vertical-align: top;\n",
       "    }\n",
       "\n",
       "    .dataframe thead th {\n",
       "        text-align: right;\n",
       "    }\n",
       "</style>\n",
       "<table border=\"1\" class=\"dataframe\">\n",
       "  <thead>\n",
       "    <tr style=\"text-align: right;\">\n",
       "      <th></th>\n",
       "      <th>Invoice</th>\n",
       "      <th>StockCode</th>\n",
       "      <th>Description</th>\n",
       "      <th>Quantity</th>\n",
       "      <th>InvoiceDate</th>\n",
       "      <th>Price</th>\n",
       "      <th>Customer ID</th>\n",
       "      <th>Country</th>\n",
       "    </tr>\n",
       "  </thead>\n",
       "  <tbody>\n",
       "    <tr>\n",
       "      <th>0</th>\n",
       "      <td>489434</td>\n",
       "      <td>85048</td>\n",
       "      <td>15CM CHRISTMAS GLASS BALL 20 LIGHTS</td>\n",
       "      <td>12</td>\n",
       "      <td>2009-12-01 07:45:00</td>\n",
       "      <td>6.95</td>\n",
       "      <td>13085.0</td>\n",
       "      <td>United Kingdom</td>\n",
       "    </tr>\n",
       "    <tr>\n",
       "      <th>1</th>\n",
       "      <td>489434</td>\n",
       "      <td>79323P</td>\n",
       "      <td>PINK CHERRY LIGHTS</td>\n",
       "      <td>12</td>\n",
       "      <td>2009-12-01 07:45:00</td>\n",
       "      <td>6.75</td>\n",
       "      <td>13085.0</td>\n",
       "      <td>United Kingdom</td>\n",
       "    </tr>\n",
       "    <tr>\n",
       "      <th>2</th>\n",
       "      <td>489434</td>\n",
       "      <td>79323W</td>\n",
       "      <td>WHITE CHERRY LIGHTS</td>\n",
       "      <td>12</td>\n",
       "      <td>2009-12-01 07:45:00</td>\n",
       "      <td>6.75</td>\n",
       "      <td>13085.0</td>\n",
       "      <td>United Kingdom</td>\n",
       "    </tr>\n",
       "    <tr>\n",
       "      <th>3</th>\n",
       "      <td>489434</td>\n",
       "      <td>22041</td>\n",
       "      <td>RECORD FRAME 7\" SINGLE SIZE</td>\n",
       "      <td>48</td>\n",
       "      <td>2009-12-01 07:45:00</td>\n",
       "      <td>2.10</td>\n",
       "      <td>13085.0</td>\n",
       "      <td>United Kingdom</td>\n",
       "    </tr>\n",
       "    <tr>\n",
       "      <th>4</th>\n",
       "      <td>489434</td>\n",
       "      <td>21232</td>\n",
       "      <td>STRAWBERRY CERAMIC TRINKET BOX</td>\n",
       "      <td>24</td>\n",
       "      <td>2009-12-01 07:45:00</td>\n",
       "      <td>1.25</td>\n",
       "      <td>13085.0</td>\n",
       "      <td>United Kingdom</td>\n",
       "    </tr>\n",
       "  </tbody>\n",
       "</table>\n",
       "</div>"
      ],
      "text/plain": [
       "  Invoice StockCode                          Description  Quantity   \n",
       "0  489434     85048  15CM CHRISTMAS GLASS BALL 20 LIGHTS        12  \\\n",
       "1  489434    79323P                   PINK CHERRY LIGHTS        12   \n",
       "2  489434    79323W                  WHITE CHERRY LIGHTS        12   \n",
       "3  489434     22041         RECORD FRAME 7\" SINGLE SIZE         48   \n",
       "4  489434     21232       STRAWBERRY CERAMIC TRINKET BOX        24   \n",
       "\n",
       "          InvoiceDate  Price  Customer ID         Country  \n",
       "0 2009-12-01 07:45:00   6.95      13085.0  United Kingdom  \n",
       "1 2009-12-01 07:45:00   6.75      13085.0  United Kingdom  \n",
       "2 2009-12-01 07:45:00   6.75      13085.0  United Kingdom  \n",
       "3 2009-12-01 07:45:00   2.10      13085.0  United Kingdom  \n",
       "4 2009-12-01 07:45:00   1.25      13085.0  United Kingdom  "
      ]
     },
     "execution_count": 6,
     "metadata": {},
     "output_type": "execute_result"
    }
   ],
   "source": [
    "df.head()\n"
   ]
  },
  {
   "attachments": {},
   "cell_type": "markdown",
   "metadata": {},
   "source": [
    "Agrupamos por pais y sumamos las cantidades"
   ]
  },
  {
   "cell_type": "code",
   "execution_count": 7,
   "metadata": {},
   "outputs": [],
   "source": [
    "paises = df.groupby('Country')['Quantity'].sum()\n"
   ]
  },
  {
   "attachments": {},
   "cell_type": "markdown",
   "metadata": {},
   "source": [
    "Ordenamos los valores de forma ascendente"
   ]
  },
  {
   "cell_type": "code",
   "execution_count": 8,
   "metadata": {},
   "outputs": [],
   "source": [
    "paises = paises.sort_values(ascending=False)\n"
   ]
  },
  {
   "cell_type": "code",
   "execution_count": 9,
   "metadata": {},
   "outputs": [
    {
     "data": {
      "image/png": "[encoded data removed]",
      "text/plain": [
       "<Figure size 640x480 with 1 Axes>"
      ]
     },
     "metadata": {},
     "output_type": "display_data"
    }
   ],
   "source": [
    "plt.barh(paises.index, paises.values)\n",
    "plt.xlabel('Cantidad')\n",
    "plt.ylabel('País')\n",
    "plt.title('Cantidad de productos consumidos por país')\n",
    "plt.show()\n"
   ]
  },
  {
   "attachments": {},
   "cell_type": "markdown",
   "metadata": {},
   "source": [
    "Entendemos entonces que el pais que mas consume es United Kingdom"
   ]
  },
  {
   "cell_type": "code",
   "execution_count": 10,
   "metadata": {},
   "outputs": [],
   "source": [
    "# La columna InvoiceDate la convertimos a un datetime\n",
    "df['InvoiceDate'] = pd.to_datetime(df['InvoiceDate'], format='%d/%m/%Y %I:%M:%S %p') \n",
    "\n",
    "# agrupamos los datos por cada año y ademas por país para sumar posteriormente la columna de Quantity\n",
    "ventas_por_año_y_pais = df.groupby([df['InvoiceDate'].dt.year, 'Country'])['Quantity'].sum() \n",
    "\n",
    "# obtenemos el índice del máximo valor de ventas por año\n",
    "pais_max_consumo_por_año = ventas_por_año_y_pais.groupby(level=0).idxmax() \n"
   ]
  },
  {
   "cell_type": "code",
   "execution_count": 11,
   "metadata": {},
   "outputs": [
    {
     "data": {
      "text/plain": [
       "InvoiceDate\n",
       "2009    (2009, United Kingdom)\n",
       "2010    (2010, United Kingdom)\n",
       "2011    (2011, United Kingdom)\n",
       "Name: Quantity, dtype: object"
      ]
     },
     "execution_count": 11,
     "metadata": {},
     "output_type": "execute_result"
    }
   ],
   "source": [
    "pais_max_consumo_por_año\n"
   ]
  },
  {
   "attachments": {},
   "cell_type": "markdown",
   "metadata": {},
   "source": [
    "Realizar un análisis para identificar los productos más vendidos o los más populares en\n",
    "términos de ganancias o cantidad de ventas."
   ]
  },
  {
   "attachments": {},
   "cell_type": "markdown",
   "metadata": {},
   "source": [
    "Agrupamos por producto y luego sumamos la cantidad y ordenamos de forma descendente"
   ]
  },
  {
   "cell_type": "code",
   "execution_count": 14,
   "metadata": {},
   "outputs": [],
   "source": [
    "productos_mas_vendidos = df.groupby('Description')['Quantity'].sum().sort_values(ascending=False)\n"
   ]
  },
  {
   "cell_type": "code",
   "execution_count": 15,
   "metadata": {},
   "outputs": [
    {
     "data": {
      "text/plain": [
       "Description\n",
       "WORLD WAR 2 GLIDERS ASSTD DESIGNS     56358\n",
       "JUMBO BAG RED RETROSPOT               47363\n",
       "WHITE HANGING HEART T-LIGHT HOLDER    41720\n",
       "ASSORTED COLOUR BIRD ORNAMENT         41015\n",
       "POPCORN HOLDER                        36334\n",
       "                                      ...  \n",
       "Damaged                               -7540\n",
       "Printing smudges/thrown away          -9058\n",
       "check                                -12030\n",
       "Unsaleable, destroyed.               -15644\n",
       "printing smudges/thrown away         -19200\n",
       "Name: Quantity, Length: 5225, dtype: int64"
      ]
     },
     "execution_count": 15,
     "metadata": {},
     "output_type": "execute_result"
    }
   ],
   "source": [
    "productos_mas_vendidos"
   ]
  },
  {
   "cell_type": "code",
   "execution_count": 18,
   "metadata": {},
   "outputs": [],
   "source": [
    "productos_con_mas_ganancias = df.groupby('Description')['Price'].sum().sort_values(ascending=False)"
   ]
  },
  {
   "cell_type": "code",
   "execution_count": 19,
   "metadata": {},
   "outputs": [
    {
     "data": {
      "text/plain": [
       "Description\n",
       "AMAZON FEE                             249042.68\n",
       "DOTCOM POSTAGE                         224826.64\n",
       "Manual                                 221765.20\n",
       "POSTAGE                                 47826.96\n",
       "REGENCY CAKESTAND 3 TIER                30360.61\n",
       "                                         ...    \n",
       "add stock to allocate online orders         0.00\n",
       "adjust                                      0.00\n",
       "adjustment                                  0.00\n",
       "wrongly sold sets                           0.00\n",
       "Adjust bad debt                        -11062.06\n",
       "Name: Price, Length: 5225, dtype: float64"
      ]
     },
     "execution_count": 19,
     "metadata": {},
     "output_type": "execute_result"
    }
   ],
   "source": [
    "productos_con_mas_ganancias"
   ]
  },
  {
   "attachments": {},
   "cell_type": "markdown",
   "metadata": {},
   "source": [
    "Analizar el conjunto de datos para detectar patrones y tendencias, por ejemplo, identificar si\n",
    "hay picos de ventas durante ciertos meses del año."
   ]
  },
  {
   "cell_type": "code",
   "execution_count": 20,
   "metadata": {},
   "outputs": [
    {
     "name": "stdout",
     "output_type": "stream",
     "text": [
      "InvoiceDate\n",
      "2009-12    420088\n",
      "2010-12    342228\n",
      "2011-01    308966\n",
      "2011-02    277989\n",
      "2011-03    351872\n",
      "2011-04    289098\n",
      "2011-05    380391\n",
      "2011-06    341623\n",
      "2011-07    391116\n",
      "2011-08    406199\n",
      "2011-09    549817\n",
      "2011-10    570532\n",
      "2011-11    740286\n",
      "2011-12    226334\n",
      "Name: Quantity, dtype: int64\n"
     ]
    }
   ],
   "source": [
    "# la columna InvoiceDate la convertimos a tipo fecha\n",
    "df['InvoiceDate'] = pd.to_datetime(df['InvoiceDate'])\n",
    "\n",
    "# Agrupamos aqui todos los datos por mes para luego obtener  la cantidad total de ventas\n",
    "ventas_por_mes = df.groupby(df['InvoiceDate'].dt.strftime('%Y-%m'))['Quantity'].sum()\n",
    "\n",
    "# Imprimir el resultado\n",
    "print(ventas_por_mes)"
   ]
  },
  {
   "attachments": {},
   "cell_type": "markdown",
   "metadata": {},
   "source": [
    "Realizar un análisis de correlación para determinar la relación entre las variables, por ejemplo,\n",
    "si existe una correlación entre el precio y la cantidad de ventas"
   ]
  },
  {
   "cell_type": "code",
   "execution_count": 22,
   "metadata": {},
   "outputs": [],
   "source": [
    "# Validamos de que las columnas Price y Quantity contengas numeros\n",
    "df['Price'] = pd.to_numeric(df['Price'], errors='coerce')\n",
    "df['Quantity'] = pd.to_numeric(df['Quantity'], errors='coerce')\n",
    "\n",
    "# correlación entre el precio y la cantidad de ventas\n",
    "correlacion = df['Price'].corr(df['Quantity'])\n",
    "\n",
    "\n"
   ]
  },
  {
   "cell_type": "code",
   "execution_count": 23,
   "metadata": {},
   "outputs": [
    {
     "data": {
      "text/plain": [
       "-0.0013188822082281888"
      ]
     },
     "execution_count": 23,
     "metadata": {},
     "output_type": "execute_result"
    }
   ],
   "source": [
    "correlacion "
   ]
  },
  {
   "attachments": {},
   "cell_type": "markdown",
   "metadata": {},
   "source": [
    "correlación de Pearson\n",
    "cercano a 1, correlacion positiva, aumenta uno entonces aumenta el segundo tambien\n",
    "cercano a -1 correlacion negativa, aumenta alguno disminuye el otro  (Asociacion inversa)\n",
    "cercano a cero, no hay correlacion"
   ]
  }
 ],
 "metadata": {
  "kernelspec": {
   "display_name": "Python 3",
   "language": "python",
   "name": "python3"
  },
  "language_info": {
   "codemirror_mode": {
    "name": "ipython",
    "version": 3
   },
   "file_extension": ".py",
   "mimetype": "text/x-python",
   "name": "python",
   "nbconvert_exporter": "python",
   "pygments_lexer": "ipython3",
   "version": "3.11.2"
  },
  "orig_nbformat": 4
 },
 "nbformat": 4,
 "nbformat_minor": 2
}
